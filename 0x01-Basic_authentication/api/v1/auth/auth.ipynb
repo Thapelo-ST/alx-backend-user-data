{
 "cells": [
  {
   "cell_type": "code",
   "execution_count": 7,
   "metadata": {},
   "outputs": [],
   "source": [
    "#!/usr/bin/env python3\n",
    "\"\"\" Manages API authentication\"\"\"\n",
    "from typing import List, TypeVar\n",
    "from flask import request\n",
    "\n",
    "class Auth():\n",
    "    \"\"\" Manages API authentication\"\"\"\n",
    "    def require_auth(self, path: str, excluded_paths: List[str]) -> bool:\n",
    "        \"\"\"returns false paths and executed paths \"\"\"\n",
    "        if path is None or excluded_paths is None or len(excluded_paths) == 0:\n",
    "            return True\n",
    "        \n",
    "        for excluded_path in excluded_paths:\n",
    "            if path.startswith(excluded_path.rstrip('/')):\n",
    "                return False\n",
    "        \n",
    "        return True\n",
    "\n",
    "    def authorization_header(self, request=None) -> str:\n",
    "        \"\"\" responsible for auth header \"\"\"\n",
    "        if request is None or 'Authorization' not in request.headers:\n",
    "            return None\n",
    "        \n",
    "        return request.headers['Authorization']\n",
    "\n",
    "    def current_user(self, request=None) -> TypeVar('User'): # type: ignore\n",
    "        \"\"\" returns current user\"\"\"\n",
    "        return None"
   ]
  },
  {
   "cell_type": "code",
   "execution_count": 8,
   "metadata": {},
   "outputs": [
    {
     "name": "stdout",
     "output_type": "stream",
     "text": [
      "True\n",
      "True\n",
      "True\n",
      "False\n",
      "False\n",
      "True\n",
      "True\n"
     ]
    }
   ],
   "source": [
    "a = Auth()\n",
    "\n",
    "print(a.require_auth(None, None))\n",
    "print(a.require_auth(None, []))\n",
    "print(a.require_auth(\"/api/v1/status/\", []))\n",
    "print(a.require_auth(\"/api/v1/status/\", [\"/api/v1/status/\"]))\n",
    "print(a.require_auth(\"/api/v1/status\", [\"/api/v1/status/\"]))\n",
    "print(a.require_auth(\"/api/v1/users\", [\"/api/v1/status/\"]))\n",
    "print(a.require_auth(\"/api/v1/users\", [\"/api/v1/status/\", \"/api/v1/stats\"]))"
   ]
  }
 ],
 "metadata": {
  "kernelspec": {
   "display_name": "Python 3",
   "language": "python",
   "name": "python3"
  },
  "language_info": {
   "codemirror_mode": {
    "name": "ipython",
    "version": 3
   },
   "file_extension": ".py",
   "mimetype": "text/x-python",
   "name": "python",
   "nbconvert_exporter": "python",
   "pygments_lexer": "ipython3",
   "version": "3.10.12"
  }
 },
 "nbformat": 4,
 "nbformat_minor": 2
}
